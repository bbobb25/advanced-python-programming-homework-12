{
 "cells": [
  {
   "cell_type": "code",
   "execution_count": 1,
   "id": "5f277adb",
   "metadata": {},
   "outputs": [],
   "source": [
    "import sqlite3\n",
    "\n",
    "connection = sqlite3.connect('books.db')\n",
    "\n",
    "import pandas as pd\n",
    "\n",
    "pd.options.display.max_columns = 10"
   ]
  },
  {
   "cell_type": "code",
   "execution_count": 5,
   "id": "4403e8be",
   "metadata": {},
   "outputs": [],
   "source": [
    "cursor = connection.cursor()"
   ]
  },
  {
   "cell_type": "code",
   "execution_count": 9,
   "id": "64825507",
   "metadata": {},
   "outputs": [
    {
     "name": "stdout",
     "output_type": "stream",
     "text": [
      "[('0135404673', 'Intro to Python for CS and DS', 1, '2020'), ('0132151006', 'Internet & WWW How to Program', 5, '2012'), ('0134743350', 'Java How to Program', 11, '2018'), ('0133976890', 'C How to Program', 8, '2016'), ('0133406954', 'Visual Basic 2012 How to Program', 6, '2014'), ('0134601548', 'Visual C# How to Program', 6, '2017'), ('0136151574', 'Visual C++ How to Program', 2, '2008'), ('0134448235', 'C++ How to Program', 10, '2017'), ('0134444302', 'Android How to Program', 3, '2017'), ('0134289366', 'Android 6 for Programmers', 3, '2016')]\n"
     ]
    }
   ],
   "source": [
    "cursor.execute(\"SELECT * FROM titles\")\n",
    "print(cursor.fetchall())"
   ]
  },
  {
   "cell_type": "code",
   "execution_count": null,
   "id": "b1d13a0a",
   "metadata": {},
   "outputs": [],
   "source": []
  }
 ],
 "metadata": {
  "kernelspec": {
   "display_name": "Python 3 (ipykernel)",
   "language": "python",
   "name": "python3"
  },
  "language_info": {
   "codemirror_mode": {
    "name": "ipython",
    "version": 3
   },
   "file_extension": ".py",
   "mimetype": "text/x-python",
   "name": "python",
   "nbconvert_exporter": "python",
   "pygments_lexer": "ipython3",
   "version": "3.9.13"
  }
 },
 "nbformat": 4,
 "nbformat_minor": 5
}
